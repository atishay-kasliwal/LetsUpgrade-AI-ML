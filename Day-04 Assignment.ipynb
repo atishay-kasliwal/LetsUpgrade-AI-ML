{
 "cells": [
  {
   "cell_type": "code",
   "execution_count": 2,
   "metadata": {},
   "outputs": [
    {
     "name": "stdout",
     "output_type": "stream",
     "text": [
      "Addition of complex numbers (1+8j) and (1+2j) is (2+10j)\n",
      "Subtraction of complex numbers (1+8j) and (1+2j) is -6j\n",
      "Multiplication of complex numbers (1+8j) and (1+2j) is (-15+10j)\n",
      "Division of complex numbers (1+8j) and (1+2j) is (2+10j)\n"
     ]
    }
   ],
   "source": [
    "#Question 1 :\n",
    "#Research on whether addition, subtraction, multiplication, division, floor division and modulo \n",
    "#operations be performed on complex numbers. Based on your study, implement a Python\n",
    "#program to demonstrate these operations.\n",
    "#------------START----------\n",
    "# can't mod complex numbers.\n",
    "# can't take floor of complex number.\n",
    "#Addition of complex numbers\n",
    "x=complex(1,8)\n",
    "y=complex(1,2)\n",
    "print(\"Addition of complex numbers \"+str(x)+\" and \"+str(y)+\" is\",x+y)\n",
    "\n",
    "#Subtraction of complex numbers\n",
    "print(\"Subtraction of complex numbers \"+str(x)+\" and \"+str(y)+\" is\",y-x)\n",
    "\n",
    "#Multiplication of complex numbers\n",
    "print(\"Multiplication of complex numbers \"+str(x)+\" and \"+str(y)+\" is\",x*y)\n",
    "\n",
    "#Division of complex numbers\n",
    "print(\"Division of complex numbers \"+str(x)+\" and \"+str(y)+\" is\",x+y)"
   ]
  },
  {
   "cell_type": "code",
   "execution_count": 1,
   "metadata": {},
   "outputs": [],
   "source": [
    "# Question 2 :\n",
    "# Research on range() functions and its parameters. Create a markdown cell and write in your own\n",
    "# words (no copy-paste from google please) what you understand about it. Implement a small\n",
    "# program of your choice on the same.\n",
    "\n",
    "## range() :\n",
    " \n",
    "# range() function returns a list or a sequence of numbers according to the parameters specified.\n",
    " \n",
    "# It can have upto three parameters: start_value, stop_value and step_value.\n",
    " \n",
    "# start_value : where to start from\n",
    " \n",
    "# stop_value : where to stop\n",
    " \n",
    "# step_value : how many places to skip(step on)"
   ]
  },
  {
   "cell_type": "code",
   "execution_count": 13,
   "metadata": {},
   "outputs": [
    {
     "name": "stdout",
     "output_type": "stream",
     "text": [
      "Enter the first number 5\n",
      "Enter the second number 2\n",
      "Division of numbers  2.5\n"
     ]
    }
   ],
   "source": [
    "# Question 3:\n",
    "#  Consider two numbers. Perform their subtraction and if the result of subtraction is greater than\n",
    "# 25, print their multiplication result else print their division result.\n",
    "\n",
    "a=float(input(\"Enter the first number \"))\n",
    "b=float(input(\"Enter the second number \"))\n",
    "if (a-b)>=25:\n",
    "    print(\"Multiplication of numbers \",a*b)\n",
    "else:\n",
    "    print(\"Division of numbers \", a/b)"
   ]
  },
  {
   "cell_type": "code",
   "execution_count": 20,
   "metadata": {},
   "outputs": [
    {
     "name": "stdout",
     "output_type": "stream",
     "text": [
      "2\n",
      "62\n",
      "482\n",
      "6398\n",
      "6722\n",
      "9998\n"
     ]
    }
   ],
   "source": [
    "# Question 4:\n",
    "# Consider a list of 10 elements of integer values. If the number in the list is divisible by 2, print the\n",
    "# result as \"square of that number minus 2\".\n",
    "\n",
    "l=[2,5,7,8,22,45,77,80,82,100]\n",
    "c=0\n",
    "for i in l:\n",
    "    if i%2==0:\n",
    "        c=i**2 - 2\n",
    "        print(c)"
   ]
  },
  {
   "cell_type": "code",
   "execution_count": 21,
   "metadata": {},
   "outputs": [
    {
     "name": "stdout",
     "output_type": "stream",
     "text": [
      "22\n",
      "45\n",
      "77\n",
      "80\n",
      "82\n",
      "100\n"
     ]
    }
   ],
   "source": [
    "# Question 5:\n",
    "# Consider a list of 10 elements. Print all the elements in the list which are greater than 7 when that\n",
    "# number is divided 2.\n",
    "\n",
    "l=[2,5,7,8,22,45,77,80,82,100]\n",
    "for i in l:\n",
    "    if i/2>7:\n",
    "        print(i)"
   ]
  },
  {
   "cell_type": "code",
   "execution_count": null,
   "metadata": {},
   "outputs": [],
   "source": []
  }
 ],
 "metadata": {
  "kernelspec": {
   "display_name": "Python 3",
   "language": "python",
   "name": "python3"
  },
  "language_info": {
   "codemirror_mode": {
    "name": "ipython",
    "version": 3
   },
   "file_extension": ".py",
   "mimetype": "text/x-python",
   "name": "python",
   "nbconvert_exporter": "python",
   "pygments_lexer": "ipython3",
   "version": "3.7.6"
  }
 },
 "nbformat": 4,
 "nbformat_minor": 2
}
