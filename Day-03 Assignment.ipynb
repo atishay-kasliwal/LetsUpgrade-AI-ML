{
 "cells": [
  {
   "cell_type": "code",
   "execution_count": 1,
   "metadata": {},
   "outputs": [
    {
     "name": "stdout",
     "output_type": "stream",
     "text": [
      "Subtraction of two complex number is  (-1+4j)\n"
     ]
    }
   ],
   "source": [
    "# Question 1 :\n",
    "# Write a program to subtract two complex numbers in Python.\n",
    "\n",
    "a= complex(2,3)\n",
    "b= complex(1,7)\n",
    "c= b-a\n",
    "print(\"Subtraction of two complex number is \" , c)"
   ]
  },
  {
   "cell_type": "code",
   "execution_count": 3,
   "metadata": {},
   "outputs": [
    {
     "name": "stdout",
     "output_type": "stream",
     "text": [
      "enter the number 10\n",
      "Fourth root of the number is: 1.7782794100389228\n"
     ]
    }
   ],
   "source": [
    "# Question 2 :\n",
    "# Write a program to find the fourth root of a number.\n",
    "\n",
    "a= int(input(\"enter the number \"))\n",
    "print(\"Fourth root of the number is:\", a**(1/4))"
   ]
  },
  {
   "cell_type": "code",
   "execution_count": 8,
   "metadata": {},
   "outputs": [
    {
     "name": "stdout",
     "output_type": "stream",
     "text": [
      "Enter the first number 1\n",
      "Enter the Second number 2\n",
      "First number is  2\n",
      "Second number is  1\n"
     ]
    }
   ],
   "source": [
    "# Question 3:\n",
    "# Write a program to swap two numbers in Python with the help of a temporary variable.\n",
    "\n",
    "a=int(input(\"Enter the first number \"))\n",
    "b=int(input(\"Enter the Second number \"))\n",
    "temp= a\n",
    "a=b\n",
    "b= temp\n",
    "print(\"First number is \", a)\n",
    "print(\"Second number is \", b)\n",
    "\n"
   ]
  },
  {
   "cell_type": "code",
   "execution_count": 7,
   "metadata": {},
   "outputs": [
    {
     "name": "stdout",
     "output_type": "stream",
     "text": [
      "Enter the first number 1\n",
      "Enter the Second number 2\n",
      "First number is 2 second is 1\n"
     ]
    }
   ],
   "source": [
    "# Question 4:\n",
    "# Write a program to swap two numbers in Python without using a temporary variable.\n",
    "\n",
    "a=int(input(\"Enter the first number \"))\n",
    "b=int(input(\"Enter the Second number \"))\n",
    "a,b = b,a\n",
    "print(\"First number is \"+str(a)+\" second is \"+str(b))"
   ]
  },
  {
   "cell_type": "code",
   "execution_count": 19,
   "metadata": {},
   "outputs": [
    {
     "name": "stdout",
     "output_type": "stream",
     "text": [
      "Enter temperature in Fahrenheit 32\n",
      "Temperature in Kelvin is  273.15\n",
      "Temperature in Celcius is  0.0\n"
     ]
    }
   ],
   "source": [
    "# Question 5:\n",
    "# Write a program to convert fahrenheit to kelvin and celsius both.\n",
    "\n",
    "far = float(input(\"Enter temperature in Fahrenheit \"))\n",
    "kel = (far-32)*5/9+273.15\n",
    "print(\"Temperature in Kelvin is \", kel)\n",
    "cel= (far-32)*5/9\n",
    "print(\"Temperature in Celcius is \", cel)"
   ]
  },
  {
   "cell_type": "code",
   "execution_count": 6,
   "metadata": {},
   "outputs": [
    {
     "name": "stdout",
     "output_type": "stream",
     "text": [
      "445  type is  <class 'int'>\n",
      "1581.0  type is  <class 'float'>\n",
      "(1+7j)  type is  <class 'complex'>\n",
      "True  type is  <class 'bool'>\n",
      "atishay  type is  <class 'str'>\n"
     ]
    }
   ],
   "source": [
    "# Question 6:\n",
    "# Write a program to demonstrate all the available data types in Python. Hint: Use type() function.\n",
    "a=445\n",
    "print(a ,\" type is \", type(a))\n",
    "a=1581.0\n",
    "print(a,\" type is \", type(a))\n",
    "a=1+7j\n",
    "print(a,\" type is \", type(a))\n",
    "a = True\n",
    "print(a,\" type is \", type(a))\n",
    "a=\"atishay\"\n",
    "print(a,\" type is \", type(a))\n"
   ]
  },
  {
   "cell_type": "markdown",
   "metadata": {},
   "source": [
    "# Question 7:\n",
    "Create a Markdown cell in jupyter and list the steps discussed in the session by Dr. Darshan Ingle sir to create Github profile and upload Githubs Assignment link.\n",
    "\n",
    "Step 1: Create your Github account just like a gmail account\n",
    "Step 2: Create a repository with the name 'LetsUpgradeAI-ML'.(Remember: the repository should be public)\n",
    "Step 3: Upload your .ipynb file in the repository with name of the day, ex: Day-03\n",
    "\n"
   ]
  },
  {
   "cell_type": "code",
   "execution_count": null,
   "metadata": {},
   "outputs": [],
   "source": []
  }
 ],
 "metadata": {
  "kernelspec": {
   "display_name": "Python 3",
   "language": "python",
   "name": "python3"
  },
  "language_info": {
   "codemirror_mode": {
    "name": "ipython",
    "version": 3
   },
   "file_extension": ".py",
   "mimetype": "text/x-python",
   "name": "python",
   "nbconvert_exporter": "python",
   "pygments_lexer": "ipython3",
   "version": "3.7.6"
  }
 },
 "nbformat": 4,
 "nbformat_minor": 2
}
