{
 "cells": [
  {
   "cell_type": "code",
   "execution_count": 10,
   "metadata": {},
   "outputs": [
    {
     "name": "stdout",
     "output_type": "stream",
     "text": [
      "[3, 5, 7, 11, 13, 17, 19, 23, 29, 31, 37, 41, 43, 47, 53, 59, 61, 67, 71, 73]\n"
     ]
    }
   ],
   "source": [
    "# Question 1 :\n",
    "# Write a Python program to find the first 20 non-even prime natural numbers.\n",
    "\n",
    "li=[]\n",
    "for i in range(2,100):\n",
    "    b=1\n",
    "    a=1\n",
    "    if i%2==0:\n",
    "        a=0\n",
    "    elif a==1:    #will take only odd numbers\n",
    "        for j in range(2,i):\n",
    "            if  i%j ==0:    #condition to check if the number is prime or not\n",
    "                b=0\n",
    "                break\n",
    "        if b==1:\n",
    "            li.append(i)\n",
    "        if len(li)==20:  #we have to display only 20 numbers\n",
    "            break\n",
    "print(li)\n",
    "        \n"
   ]
  },
  {
   "cell_type": "code",
   "execution_count": 3,
   "metadata": {},
   "outputs": [
    {
     "name": "stdout",
     "output_type": "stream",
     "text": [
      "ATISHAY KASLIWAL@0212\n",
      "atishay kasliwal@0212\n",
      "False\n",
      "False\n",
      "False\n",
      "False\n",
      "False\n",
      "False\n",
      "False\n",
      "Atishay Kasliwal@0212\n",
      "AtishayKasliwal@0212\n",
      "17\n",
      "5\n",
      "aTISHAY kASLIWAL@0212\n",
      "['Atishay', 'Kasliwal@0212']\n"
     ]
    }
   ],
   "source": [
    "# Question 2 :\n",
    "# Write a Python program to implement 15 functions of string.\n",
    "\n",
    "str =  'Atishay Kasliwal@0212'\n",
    "print(str.upper()) #coverts the string in upper case\n",
    "print(str.lower()) #coverts the string in lower case\n",
    "print(str.isalpha()) #checks if the string is alphabetic\n",
    "print(str.isalnum()) #checks if the string is alphanumeric\n",
    "print(str.isdecimal()) #checks if the string contains decimals\n",
    "print(str.isdigit()) #checks if the string contains numbers\n",
    "print(str.islower()) #checks if the string is in lower case\n",
    "print(str.isupper()) #checks if the string is in upper case\n",
    "print(str.isspace()) #checks if the string comtains only spaces\n",
    "print(str.strip()) #removes extra spaces from string\n",
    "print(str.replace(\" \",\"\")) #replaces acc to the parameters\n",
    "print(str.find('0')) #find the character in parameter\n",
    "print(str.index('a')) #find the index of parameter\n",
    "print(str.swapcase()) #swap cases\n",
    "print(str.split()) #splits the string acc to spaces"
   ]
  },
  {
   "cell_type": "code",
   "execution_count": 2,
   "metadata": {},
   "outputs": [
    {
     "name": "stdout",
     "output_type": "stream",
     "text": [
      "Enter the string to check palindrome or not Aditya\n",
      "Not Palindrome\n",
      "Enter a string to check  anagram Aditya\n",
      "Enter a string to check  anagram Adityaa\n",
      "Not Anagram\n"
     ]
    }
   ],
   "source": [
    "# Question 3:\n",
    "# Write a Python program to check if the given string is a Palindrome or Anagram or None of them.\n",
    "# Display the message accordingly to the user\n",
    "\n",
    "a=input(\"Enter the string to check palindrome or not \")\n",
    "a1=a[::-1]\n",
    "if list(a)==list(a1):\n",
    "    print(\"Palindrome\")\n",
    "else:\n",
    "    print(\"Not Palindrome\")\n",
    "\n",
    "b=input(\"Enter a string to check  anagram \")\n",
    "c=input(\"Enter a string to check  anagram \")\n",
    "if sorted(b)==sorted(c):\n",
    "    print(\"Anagram\")\n",
    "else:\n",
    "    print(\"Not Anagram\")"
   ]
  },
  {
   "cell_type": "code",
   "execution_count": 2,
   "metadata": {},
   "outputs": [
    {
     "name": "stdout",
     "output_type": "stream",
     "text": [
      "Enter the string:Dr. Darshan Ingle # @AI-ML Trainer\n",
      "Output:  drdarshaningleaimltrainer\n"
     ]
    }
   ],
   "source": [
    "# Question 4:\n",
    "# Write a Python's user defined function that removes all the additional characters from the string\n",
    "# and converts it finally to lower case using built-in lower(). eg: If the string is \"Dr. Darshan Ingle\n",
    "# @AI-ML Trainer\", then the output be \"drdarshaningleaimltrainer\".\n",
    "\n",
    "a=input(\"Enter the string:\")\n",
    "b=''\n",
    "for i in a:\n",
    "    if not i.isalpha() and not i.isdigit():  #Check if its is not alphabet and digit\n",
    "        i=''\n",
    "    b=b+i\n",
    "print(\"Output: \",b.lower())"
   ]
  },
  {
   "cell_type": "code",
   "execution_count": null,
   "metadata": {},
   "outputs": [],
   "source": []
  },
  {
   "cell_type": "code",
   "execution_count": 8,
   "metadata": {},
   "outputs": [],
   "source": []
  },
  {
   "cell_type": "code",
   "execution_count": null,
   "metadata": {},
   "outputs": [],
   "source": []
  }
 ],
 "metadata": {
  "kernelspec": {
   "display_name": "Python 3",
   "language": "python",
   "name": "python3"
  },
  "language_info": {
   "codemirror_mode": {
    "name": "ipython",
    "version": 3
   },
   "file_extension": ".py",
   "mimetype": "text/x-python",
   "name": "python",
   "nbconvert_exporter": "python",
   "pygments_lexer": "ipython3",
   "version": "3.7.6"
  }
 },
 "nbformat": 4,
 "nbformat_minor": 2
}
