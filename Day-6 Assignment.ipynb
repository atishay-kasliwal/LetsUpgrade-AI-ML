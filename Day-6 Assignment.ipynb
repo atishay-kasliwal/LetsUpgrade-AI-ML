{
 "cells": [
  {
   "cell_type": "code",
   "execution_count": 28,
   "metadata": {},
   "outputs": [
    {
     "name": "stdout",
     "output_type": "stream",
     "text": [
      "Enter email address: adityaraj@gmail.com\n",
      "gmail\n"
     ]
    }
   ],
   "source": [
    "# Question 1:\n",
    "# Assuming that we have some email addresses in the \"username@companyname.com\" format, please write program\n",
    "# to print the company name of a given email address. Both user names and company names are composed of letters\n",
    "# only.\n",
    "\n",
    "a=input(\"Enter email address: \")\n",
    "div=a.split(\"@\")\n",
    "name=div[0]\n",
    "cname=div[1].split(\".com\")[0]\n",
    "print(cname)"
   ]
  },
  {
   "cell_type": "code",
   "execution_count": null,
   "metadata": {},
   "outputs": [],
   "source": [
    "# Question 2:\n",
    "# Write a program that accepts a comma-separated sequence of words as input and prints the words in a comma\n",
    "# separated sequence after sorting them alphabetically.\n",
    "\n",
    "\n",
    "a=input(\"Enter a string \")\n",
    "b=a.split(\",\")\n",
    "b.sort()\n",
    "comma=\"\"\n",
    "for i in range(len(b)):\n",
    "    print(comma+b[i],end=\"\")\n",
    "    comma=\",\""
   ]
  },
  {
   "cell_type": "markdown",
   "metadata": {},
   "source": [
    "# Question 3 : Sets\n",
    "A set is an unordered collection of items. Every set element is unique (no duplicates) and must be immutable (cannot be changed).\n",
    "\n",
    "However, a set itself is mutable. We can add or remove items from it.\n",
    "\n",
    "Sets can also be used to perform mathematical set operations like union, intersection, symmetric difference, etc."
   ]
  },
  {
   "cell_type": "code",
   "execution_count": 30,
   "metadata": {},
   "outputs": [
    {
     "name": "stdout",
     "output_type": "stream",
     "text": [
      "{1, 2, 5, 7}\n"
     ]
    }
   ],
   "source": [
    "# Creating a set\n",
    "s = {1,5,7,2}\n",
    "print(s)"
   ]
  },
  {
   "cell_type": "code",
   "execution_count": 31,
   "metadata": {},
   "outputs": [
    {
     "name": "stdout",
     "output_type": "stream",
     "text": [
      "1\n",
      "2\n",
      "5\n",
      "7\n"
     ]
    }
   ],
   "source": [
    "# Accessing the elements of sets\n",
    "for i in s:\n",
    "    print(i)"
   ]
  },
  {
   "cell_type": "code",
   "execution_count": 32,
   "metadata": {},
   "outputs": [
    {
     "name": "stdout",
     "output_type": "stream",
     "text": [
      "{1, 2, 5, 7, 8}\n",
      "5\n"
     ]
    }
   ],
   "source": [
    "# add elements\n",
    "s.add(8)\n",
    "print(s)\n",
    "# finding the length of a set\n",
    "print(len(s))"
   ]
  },
  {
   "cell_type": "code",
   "execution_count": 33,
   "metadata": {},
   "outputs": [
    {
     "data": {
      "text/plain": [
       "{1, 2, 5, 7}"
      ]
     },
     "execution_count": 33,
     "metadata": {},
     "output_type": "execute_result"
    }
   ],
   "source": [
    "# removing elements\n",
    "s.remove(8)\n",
    "s"
   ]
  },
  {
   "cell_type": "code",
   "execution_count": 29,
   "metadata": {},
   "outputs": [
    {
     "name": "stdout",
     "output_type": "stream",
     "text": [
      "Enter numbers1 4 3 6\n",
      "2 5 "
     ]
    }
   ],
   "source": [
    "# Question 4:\n",
    "# Given a list of n-1 numbers ranging from 1 to n, your task is to find the missing number. There are no duplicates\n",
    "\n",
    "n=input(\"Enter numbers\")\n",
    "li=n.split(\" \")\n",
    "nli=[]\n",
    "\n",
    "for i in li:\n",
    "    nli.append(int(i))\n",
    "nli.sort()\n",
    "    \n",
    "for i in nli:\n",
    "    if (i+1) not in nli and i!= nli[-1]:\n",
    "        print(i+1,end=\" \")\n",
    "    "
   ]
  },
  {
   "cell_type": "code",
   "execution_count": 27,
   "metadata": {},
   "outputs": [
    {
     "name": "stdout",
     "output_type": "stream",
     "text": [
      "Enter a number1 2 2 3 4 4 5\n",
      "1 2 3 4 5 "
     ]
    }
   ],
   "source": [
    "# Question 5:\n",
    "# With a given list L, write a program to print this list L after removing all duplicate values with original order reserved.\n",
    "\n",
    "\n",
    "li= input(\"Enter a number\").split(\" \")\n",
    "l=[]\n",
    "for i in li:\n",
    "    if i not in l:\n",
    "        l.append(i)\n",
    "for i in l:\n",
    "    print(i,end=\" \")"
   ]
  },
  {
   "cell_type": "code",
   "execution_count": null,
   "metadata": {},
   "outputs": [],
   "source": []
  },
  {
   "cell_type": "code",
   "execution_count": null,
   "metadata": {},
   "outputs": [],
   "source": []
  }
 ],
 "metadata": {
  "kernelspec": {
   "display_name": "Python 3",
   "language": "python",
   "name": "python3"
  },
  "language_info": {
   "codemirror_mode": {
    "name": "ipython",
    "version": 3
   },
   "file_extension": ".py",
   "mimetype": "text/x-python",
   "name": "python",
   "nbconvert_exporter": "python",
   "pygments_lexer": "ipython3",
   "version": "3.7.4"
  }
 },
 "nbformat": 4,
 "nbformat_minor": 2
}
